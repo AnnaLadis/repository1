{
  "nbformat": 4,
  "nbformat_minor": 0,
  "metadata": {
    "colab": {
      "provenance": []
    },
    "kernelspec": {
      "name": "python3",
      "display_name": "Python 3"
    },
    "language_info": {
      "name": "python"
    }
  },
  "cells": [
    {
      "cell_type": "markdown",
      "source": [
        "# **Assignment task: Find the best neural network model for the bus delay prediction**\n",
        "\n",
        "How can I make the NN better than the Regression model?\n",
        "- change number of layers (check)\n",
        "- change the width (check)\n",
        "- implement drop-out to prevent over-fitting (check)\n",
        "- change the batch size (check)\n",
        "- change the training/test split\n",
        "- change the input (feature engineering) (check)"
      ],
      "metadata": {
        "id": "4FY4cdJ9GGoJ"
      }
    },
    {
      "cell_type": "code",
      "execution_count": null,
      "metadata": {
        "colab": {
          "base_uri": "https://localhost:8080/"
        },
        "id": "3Aw3IZa7crcD",
        "outputId": "6aa25e9e-4b78-47b0-ec5b-d8ec30319aae"
      },
      "outputs": [
        {
          "output_type": "stream",
          "name": "stderr",
          "text": [
            "/usr/local/lib/python3.10/dist-packages/keras/src/layers/core/dense.py:87: UserWarning: Do not pass an `input_shape`/`input_dim` argument to a layer. When using Sequential models, prefer using an `Input(shape)` object as the first layer in the model instead.\n",
            "  super().__init__(activity_regularizer=activity_regularizer, **kwargs)\n"
          ]
        },
        {
          "output_type": "stream",
          "name": "stdout",
          "text": [
            "\u001b[1m7/7\u001b[0m \u001b[32m━━━━━━━━━━━━━━━━━━━━\u001b[0m\u001b[37m\u001b[0m \u001b[1m0s\u001b[0m 9ms/step\n",
            "----------first layer: 16 second layer: 16----------\n",
            "Mean Absolute Error: 33.91363559838384\n",
            "Mean Squared Error: 2010.0310159823339\n",
            "R-squared: 0.8296293616294861\n"
          ]
        },
        {
          "output_type": "stream",
          "name": "stderr",
          "text": [
            "/usr/local/lib/python3.10/dist-packages/keras/src/layers/core/dense.py:87: UserWarning: Do not pass an `input_shape`/`input_dim` argument to a layer. When using Sequential models, prefer using an `Input(shape)` object as the first layer in the model instead.\n",
            "  super().__init__(activity_regularizer=activity_regularizer, **kwargs)\n"
          ]
        },
        {
          "output_type": "stream",
          "name": "stdout",
          "text": [
            "\u001b[1m7/7\u001b[0m \u001b[32m━━━━━━━━━━━━━━━━━━━━\u001b[0m\u001b[37m\u001b[0m \u001b[1m0s\u001b[0m 8ms/step \n",
            "----------first layer: 16 second layer: 32----------\n",
            "Mean Absolute Error: 30.319218217507004\n",
            "Mean Squared Error: 1621.945400845749\n",
            "R-squared: 0.8625235557556152\n"
          ]
        },
        {
          "output_type": "stream",
          "name": "stderr",
          "text": [
            "/usr/local/lib/python3.10/dist-packages/keras/src/layers/core/dense.py:87: UserWarning: Do not pass an `input_shape`/`input_dim` argument to a layer. When using Sequential models, prefer using an `Input(shape)` object as the first layer in the model instead.\n",
            "  super().__init__(activity_regularizer=activity_regularizer, **kwargs)\n"
          ]
        },
        {
          "output_type": "stream",
          "name": "stdout",
          "text": [
            "\u001b[1m7/7\u001b[0m \u001b[32m━━━━━━━━━━━━━━━━━━━━\u001b[0m\u001b[37m\u001b[0m \u001b[1m0s\u001b[0m 10ms/step\n",
            "----------first layer: 16 second layer: 64----------\n",
            "Mean Absolute Error: 32.82623918442056\n",
            "Mean Squared Error: 1826.5358593403434\n",
            "R-squared: 0.845182478427887\n"
          ]
        },
        {
          "output_type": "stream",
          "name": "stderr",
          "text": [
            "/usr/local/lib/python3.10/dist-packages/keras/src/layers/core/dense.py:87: UserWarning: Do not pass an `input_shape`/`input_dim` argument to a layer. When using Sequential models, prefer using an `Input(shape)` object as the first layer in the model instead.\n",
            "  super().__init__(activity_regularizer=activity_regularizer, **kwargs)\n"
          ]
        },
        {
          "output_type": "stream",
          "name": "stdout",
          "text": [
            "\u001b[1m7/7\u001b[0m \u001b[32m━━━━━━━━━━━━━━━━━━━━\u001b[0m\u001b[37m\u001b[0m \u001b[1m0s\u001b[0m 8ms/step \n",
            "----------first layer: 16 second layer: 128----------\n",
            "Mean Absolute Error: 31.770772235393522\n",
            "Mean Squared Error: 1759.3833747868855\n",
            "R-squared: 0.8508743047714233\n"
          ]
        },
        {
          "output_type": "stream",
          "name": "stderr",
          "text": [
            "/usr/local/lib/python3.10/dist-packages/keras/src/layers/core/dense.py:87: UserWarning: Do not pass an `input_shape`/`input_dim` argument to a layer. When using Sequential models, prefer using an `Input(shape)` object as the first layer in the model instead.\n",
            "  super().__init__(activity_regularizer=activity_regularizer, **kwargs)\n"
          ]
        },
        {
          "output_type": "stream",
          "name": "stdout",
          "text": [
            "\u001b[1m7/7\u001b[0m \u001b[32m━━━━━━━━━━━━━━━━━━━━\u001b[0m\u001b[37m\u001b[0m \u001b[1m0s\u001b[0m 10ms/step\n",
            "----------first layer: 32 second layer: 16----------\n",
            "Mean Absolute Error: 30.518497517704965\n",
            "Mean Squared Error: 1601.4002492125987\n",
            "R-squared: 0.864264965057373\n"
          ]
        },
        {
          "output_type": "stream",
          "name": "stderr",
          "text": [
            "/usr/local/lib/python3.10/dist-packages/keras/src/layers/core/dense.py:87: UserWarning: Do not pass an `input_shape`/`input_dim` argument to a layer. When using Sequential models, prefer using an `Input(shape)` object as the first layer in the model instead.\n",
            "  super().__init__(activity_regularizer=activity_regularizer, **kwargs)\n"
          ]
        },
        {
          "output_type": "stream",
          "name": "stdout",
          "text": [
            "\u001b[1m7/7\u001b[0m \u001b[32m━━━━━━━━━━━━━━━━━━━━\u001b[0m\u001b[37m\u001b[0m \u001b[1m0s\u001b[0m 9ms/step\n",
            "----------first layer: 32 second layer: 32----------\n",
            "Mean Absolute Error: 30.133348811864852\n",
            "Mean Squared Error: 1604.2317737816927\n",
            "R-squared: 0.8640249967575073\n"
          ]
        },
        {
          "output_type": "stream",
          "name": "stderr",
          "text": [
            "/usr/local/lib/python3.10/dist-packages/keras/src/layers/core/dense.py:87: UserWarning: Do not pass an `input_shape`/`input_dim` argument to a layer. When using Sequential models, prefer using an `Input(shape)` object as the first layer in the model instead.\n",
            "  super().__init__(activity_regularizer=activity_regularizer, **kwargs)\n"
          ]
        },
        {
          "output_type": "stream",
          "name": "stdout",
          "text": [
            "\u001b[1m7/7\u001b[0m \u001b[32m━━━━━━━━━━━━━━━━━━━━\u001b[0m\u001b[37m\u001b[0m \u001b[1m0s\u001b[0m 9ms/step\n",
            "----------first layer: 32 second layer: 64----------\n",
            "Mean Absolute Error: 32.871589564085006\n",
            "Mean Squared Error: 1869.826984476187\n",
            "R-squared: 0.8415130972862244\n"
          ]
        },
        {
          "output_type": "stream",
          "name": "stderr",
          "text": [
            "/usr/local/lib/python3.10/dist-packages/keras/src/layers/core/dense.py:87: UserWarning: Do not pass an `input_shape`/`input_dim` argument to a layer. When using Sequential models, prefer using an `Input(shape)` object as the first layer in the model instead.\n",
            "  super().__init__(activity_regularizer=activity_regularizer, **kwargs)\n"
          ]
        },
        {
          "output_type": "stream",
          "name": "stdout",
          "text": [
            "\u001b[1m7/7\u001b[0m \u001b[32m━━━━━━━━━━━━━━━━━━━━\u001b[0m\u001b[37m\u001b[0m \u001b[1m0s\u001b[0m 8ms/step \n",
            "----------first layer: 32 second layer: 128----------\n",
            "Mean Absolute Error: 28.787088957410305\n",
            "Mean Squared Error: 1445.5153447374864\n",
            "R-squared: 0.8774778246879578\n"
          ]
        },
        {
          "output_type": "stream",
          "name": "stderr",
          "text": [
            "/usr/local/lib/python3.10/dist-packages/keras/src/layers/core/dense.py:87: UserWarning: Do not pass an `input_shape`/`input_dim` argument to a layer. When using Sequential models, prefer using an `Input(shape)` object as the first layer in the model instead.\n",
            "  super().__init__(activity_regularizer=activity_regularizer, **kwargs)\n"
          ]
        },
        {
          "output_type": "stream",
          "name": "stdout",
          "text": [
            "\u001b[1m7/7\u001b[0m \u001b[32m━━━━━━━━━━━━━━━━━━━━\u001b[0m\u001b[37m\u001b[0m \u001b[1m0s\u001b[0m 8ms/step \n",
            "----------first layer: 64 second layer: 16----------\n",
            "Mean Absolute Error: 30.34771065937355\n",
            "Mean Squared Error: 1627.0916692915687\n",
            "R-squared: 0.8620873689651489\n"
          ]
        },
        {
          "output_type": "stream",
          "name": "stderr",
          "text": [
            "/usr/local/lib/python3.10/dist-packages/keras/src/layers/core/dense.py:87: UserWarning: Do not pass an `input_shape`/`input_dim` argument to a layer. When using Sequential models, prefer using an `Input(shape)` object as the first layer in the model instead.\n",
            "  super().__init__(activity_regularizer=activity_regularizer, **kwargs)\n"
          ]
        },
        {
          "output_type": "stream",
          "name": "stdout",
          "text": [
            "\u001b[1m7/7\u001b[0m \u001b[32m━━━━━━━━━━━━━━━━━━━━\u001b[0m\u001b[37m\u001b[0m \u001b[1m0s\u001b[0m 8ms/step \n",
            "----------first layer: 64 second layer: 32----------\n",
            "Mean Absolute Error: 29.516938097029925\n",
            "Mean Squared Error: 1521.0355184103237\n",
            "R-squared: 0.8710767030715942\n"
          ]
        },
        {
          "output_type": "stream",
          "name": "stderr",
          "text": [
            "/usr/local/lib/python3.10/dist-packages/keras/src/layers/core/dense.py:87: UserWarning: Do not pass an `input_shape`/`input_dim` argument to a layer. When using Sequential models, prefer using an `Input(shape)` object as the first layer in the model instead.\n",
            "  super().__init__(activity_regularizer=activity_regularizer, **kwargs)\n"
          ]
        },
        {
          "output_type": "stream",
          "name": "stdout",
          "text": [
            "\u001b[1m7/7\u001b[0m \u001b[32m━━━━━━━━━━━━━━━━━━━━\u001b[0m\u001b[37m\u001b[0m \u001b[1m0s\u001b[0m 15ms/step\n",
            "----------first layer: 64 second layer: 64----------\n",
            "Mean Absolute Error: 29.12258728981018\n",
            "Mean Squared Error: 1505.8872314555815\n",
            "R-squared: 0.8723607063293457\n"
          ]
        },
        {
          "output_type": "stream",
          "name": "stderr",
          "text": [
            "/usr/local/lib/python3.10/dist-packages/keras/src/layers/core/dense.py:87: UserWarning: Do not pass an `input_shape`/`input_dim` argument to a layer. When using Sequential models, prefer using an `Input(shape)` object as the first layer in the model instead.\n",
            "  super().__init__(activity_regularizer=activity_regularizer, **kwargs)\n"
          ]
        },
        {
          "output_type": "stream",
          "name": "stdout",
          "text": [
            "\u001b[1m7/7\u001b[0m \u001b[32m━━━━━━━━━━━━━━━━━━━━\u001b[0m\u001b[37m\u001b[0m \u001b[1m0s\u001b[0m 8ms/step \n",
            "----------first layer: 64 second layer: 128----------\n",
            "Mean Absolute Error: 30.358121343702077\n",
            "Mean Squared Error: 1626.632721947566\n",
            "R-squared: 0.8621262907981873\n"
          ]
        },
        {
          "output_type": "stream",
          "name": "stderr",
          "text": [
            "/usr/local/lib/python3.10/dist-packages/keras/src/layers/core/dense.py:87: UserWarning: Do not pass an `input_shape`/`input_dim` argument to a layer. When using Sequential models, prefer using an `Input(shape)` object as the first layer in the model instead.\n",
            "  super().__init__(activity_regularizer=activity_regularizer, **kwargs)\n"
          ]
        },
        {
          "output_type": "stream",
          "name": "stdout",
          "text": [
            "\u001b[1m7/7\u001b[0m \u001b[32m━━━━━━━━━━━━━━━━━━━━\u001b[0m\u001b[37m\u001b[0m \u001b[1m0s\u001b[0m 10ms/step\n",
            "----------first layer: 128 second layer: 16----------\n",
            "Mean Absolute Error: 28.40508300989866\n",
            "Mean Squared Error: 1462.4869243257351\n",
            "R-squared: 0.8760393261909485\n"
          ]
        },
        {
          "output_type": "stream",
          "name": "stderr",
          "text": [
            "/usr/local/lib/python3.10/dist-packages/keras/src/layers/core/dense.py:87: UserWarning: Do not pass an `input_shape`/`input_dim` argument to a layer. When using Sequential models, prefer using an `Input(shape)` object as the first layer in the model instead.\n",
            "  super().__init__(activity_regularizer=activity_regularizer, **kwargs)\n"
          ]
        },
        {
          "output_type": "stream",
          "name": "stdout",
          "text": [
            "\u001b[1m7/7\u001b[0m \u001b[32m━━━━━━━━━━━━━━━━━━━━\u001b[0m\u001b[37m\u001b[0m \u001b[1m0s\u001b[0m 9ms/step\n",
            "----------first layer: 128 second layer: 32----------\n",
            "Mean Absolute Error: 30.044170664697887\n",
            "Mean Squared Error: 1589.4186612998078\n",
            "R-squared: 0.8652805685997009\n"
          ]
        },
        {
          "output_type": "stream",
          "name": "stderr",
          "text": [
            "/usr/local/lib/python3.10/dist-packages/keras/src/layers/core/dense.py:87: UserWarning: Do not pass an `input_shape`/`input_dim` argument to a layer. When using Sequential models, prefer using an `Input(shape)` object as the first layer in the model instead.\n",
            "  super().__init__(activity_regularizer=activity_regularizer, **kwargs)\n"
          ]
        },
        {
          "output_type": "stream",
          "name": "stdout",
          "text": [
            "\u001b[1m7/7\u001b[0m \u001b[32m━━━━━━━━━━━━━━━━━━━━\u001b[0m\u001b[37m\u001b[0m \u001b[1m0s\u001b[0m 8ms/step \n",
            "----------first layer: 128 second layer: 64----------\n",
            "Mean Absolute Error: 27.745652836114168\n",
            "Mean Squared Error: 1403.253361433227\n",
            "R-squared: 0.8810599446296692\n"
          ]
        },
        {
          "output_type": "stream",
          "name": "stderr",
          "text": [
            "/usr/local/lib/python3.10/dist-packages/keras/src/layers/core/dense.py:87: UserWarning: Do not pass an `input_shape`/`input_dim` argument to a layer. When using Sequential models, prefer using an `Input(shape)` object as the first layer in the model instead.\n",
            "  super().__init__(activity_regularizer=activity_regularizer, **kwargs)\n"
          ]
        },
        {
          "output_type": "stream",
          "name": "stdout",
          "text": [
            "\u001b[1m7/7\u001b[0m \u001b[32m━━━━━━━━━━━━━━━━━━━━\u001b[0m\u001b[37m\u001b[0m \u001b[1m0s\u001b[0m 14ms/step\n",
            "----------first layer: 128 second layer: 128----------\n",
            "Mean Absolute Error: 28.252569402977823\n",
            "Mean Squared Error: 1415.7491891125005\n",
            "R-squared: 0.8800008296966553\n"
          ]
        }
      ],
      "source": [
        "import pandas as pd\n",
        "from sklearn.model_selection import train_test_split\n",
        "%matplotlib inline\n",
        "import matplotlib.pyplot as plt\n",
        "import seaborn as sns\n",
        "from tensorflow.keras.models import Sequential\n",
        "from tensorflow.keras.layers import Dense\n",
        "from tensorflow.keras.layers import Dropout\n",
        "from tensorflow.keras.callbacks import EarlyStopping, ReduceLROnPlateau, ModelCheckpoint\n",
        "from keras.models import load_model\n",
        "from sklearn.linear_model import LinearRegression\n",
        "from sklearn.metrics import mean_absolute_error, mean_squared_error, r2_score\n",
        "\n",
        "filepath=\"\"\n",
        "\n",
        "#-------------------------------------------------data preprocessing------------------------------------------------------------------\n",
        "\n",
        "# Define the URL of a CSV file containing data.\n",
        "url = 'https://raw.githubusercontent.com/zhenliangma/Applied-AI-in-Transportation/master/Exercise_7_Neural_networks/Exercise7data.csv'\n",
        "\n",
        "# Read the CSV data from the specified URL into a DataFrame (assuming you have the pandas library imported as 'pd').\n",
        "df = pd.read_csv(url)\n",
        "\n",
        "# Limit the DataFrame to the first 1000 rows (selecting a subset of the data).\n",
        "df = df.iloc[:1000]\n",
        "\n",
        "# Drop specific columns (Arrival_time, Stop_id, Bus_id, Line_id) from the DataFrame.\n",
        "df = df.drop(['Arrival_time', 'Stop_id', 'Bus_id', 'Line_id'], axis=1)\n",
        "\n",
        "# Extract the features (input variables) by dropping the 'Arrival_delay' column.\n",
        "x = df.drop(['Arrival_delay'], axis=1)\n",
        "\n",
        "# Extract the target variable ('Arrival_delay') as the variable to predict.\n",
        "y = df['Arrival_delay']\n",
        "\n",
        "# splite the train and test data\n",
        "X_train, X_test, y_train, y_test = train_test_split(x, y, test_size=0.2, random_state=42)\n",
        "\n",
        "#-------------------------------------------------network construction------------------------------------------------------------------\n",
        "\n",
        "#************************************************Here you can change the layer to construct your network(add the dense layers, dropout layer, etc.)***************************\n",
        "# Create a Sequential model, which is a linear stack of layers.\n",
        "layer_width = [16, 32, 64, 128]\n",
        "\n",
        "for first_width in layer_width:\n",
        "  for second_width in layer_width:\n",
        "    model = Sequential()\n",
        "\n",
        "# Add a Dense layer with 32 units, ReLU activation, and an input dimension of 4.\n",
        "    model.add(Dense(first_width, activation='relu', input_dim=4))\n",
        "\n",
        "# Add a Dropout layer with a dropout rate of 0.5.\n",
        "    model.add(Dropout(0.2))\n",
        "\n",
        "# Add another Dense layer with 64 units and ReLU activation.\n",
        "    model.add(Dense(second_width, activation='relu'))\n",
        "\n",
        "# Add a Dropout layer with a dropout rate of 0.5.\n",
        "    model.add(Dropout(0.2))\n",
        "\n",
        "# Add a final Dense layer with 1 unit (typically used for regression tasks).\n",
        "    model.add(Dense(1))\n",
        "\n",
        "# Compile the model with the Adam optimizer, Mean Absolute Error (MAE) loss function,\n",
        "# and MAE metric to be used during training.\n",
        "    model.compile(optimizer='adam', loss='mae', metrics=['mae'])\n",
        "#************************************************Here you can change the layer to construct your network(add the layers, dropout layer, etc.)*****************\n",
        "\n",
        "#-------------------------------------------------model train------------------------------------------------------------------\n",
        "#************************************************Here you can use the callback function **************\n",
        "# use the callback function to early stop, learning rate ajusting, save the best model\n",
        "# Create an EarlyStopping callback to monitor the validation mean absolute error (val_mae).\n",
        "# It will stop training if val_mae doesn't improve for 5 consecutive epochs and restores the best weights.\n",
        "    early_stop = EarlyStopping(monitor='val_mae', patience=5, restore_best_weights=True)\n",
        "\n",
        "# Create a ReduceLROnPlateau callback to monitor val_mae.\n",
        "# It reduces the learning rate by a factor of 0.5 if val_mae doesn't improve for 3 consecutive epochs.\n",
        "    reduce_lr = ReduceLROnPlateau(monitor='val_mae', factor=0.5, patience=3)\n",
        "\n",
        "# Define the file path where the best model weights will be saved.\n",
        "    filepath = \"weights.best.h5.keras\"\n",
        "# Create a ModelCheckpoint callback to monitor the validation mae (val_mae).\n",
        "# The callback will save the model's weights only if the validation mae improves.\n",
        "    checkpoint = ModelCheckpoint(filepath, monitor='val_mae', verbose=0, save_best_only=True, mode='min')\n",
        "\n",
        "# Train the model using the fit method.\n",
        "    hist = model.fit(X_train, y_train, validation_split=0.2, epochs=200, batch_size=16, callbacks=[early_stop, reduce_lr,checkpoint],verbose=0)\n",
        "\n",
        "#************************************************Here you can choose to use the callback function *************\n",
        "\n",
        "# Set the style of the plots using seaborn.\n",
        "    sns.set()\n",
        "\n",
        "# Extract the training and validation Mean Absolute Error (MAE) from the training history.\n",
        "    err = hist.history['mae']\n",
        "    val_err = hist.history['val_mae']\n",
        "\n",
        "# Define the number of epochs.\n",
        "    epochs = range(1, len(err) + 1)\n",
        "\n",
        "# Plot the Training MAE and Validation MAE over epochs.\n",
        "    # plt.plot(epochs, err, '-', label='Training MAE')\n",
        "    # plt.plot(epochs, val_err, ':', label='Validation MAE')\n",
        "    # plt.title('Training and Validation MAE')\n",
        "    # plt.xlabel('Epoch')\n",
        "    # plt.ylabel('Mean Absolute Error')\n",
        "    # plt.legend(loc='upper right')\n",
        "    # plt.plot()\n",
        "\n",
        "# Use the trained model to predict on the test data.\n",
        "    y_pred = model.predict(X_test)\n",
        "\n",
        "# Calculate Mean Absolute Error (MAE), Mean Squared Error (MSE), and R-squared (R2) for the predictions.\n",
        "    mae = mean_absolute_error(y_test, y_pred)\n",
        "    mse = mean_squared_error(y_test, y_pred)\n",
        "    r2 = r2_score(y_test, y_pred)\n",
        "\n",
        "# Print the evaluation metrics.\n",
        "    print('----------'+'first layer: ' + str(first_width)+ ' second layer: ' + str(second_width) + '----------')\n",
        "    print(f\"Mean Absolute Error: {mae}\")\n",
        "    print(f\"Mean Squared Error: {mse}\")\n",
        "    print(f\"R-squared: {r2}\")\n",
        "\n",
        "\n",
        "\n"
      ]
    }
  ]
}